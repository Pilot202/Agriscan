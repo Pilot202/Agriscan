{
 "cells": [
  {
   "cell_type": "code",
   "execution_count": 6,
   "id": "f5f96304-a76f-4ca5-b4af-181fc277430a",
   "metadata": {},
   "outputs": [],
   "source": [
    "import numpy as np\n",
    "import pandas as pd\n",
    "import cv2"
   ]
  },
  {
   "cell_type": "code",
   "execution_count": 8,
   "id": "148043bb-e0e4-4a1a-b3e1-a2ddf6203bc7",
   "metadata": {},
   "outputs": [],
   "source": [
    "image= cv2.imread(str(\"Corn_Health.jpg\"))"
   ]
  },
  {
   "cell_type": "code",
   "execution_count": 10,
   "id": "bda632cf-859d-41cf-8d76-9aeba145848c",
   "metadata": {},
   "outputs": [
    {
     "data": {
      "text/plain": [
       "(256, 256, 3)"
      ]
     },
     "execution_count": 10,
     "metadata": {},
     "output_type": "execute_result"
    }
   ],
   "source": [
    "image.shape"
   ]
  },
  {
   "cell_type": "code",
   "execution_count": 12,
   "id": "5a6b6913-1fff-4103-8c75-ffbd5672d291",
   "metadata": {},
   "outputs": [],
   "source": [
    "import tensorflow as tf\n",
    "import numpy as np\n",
    "from PIL import Image\n",
    "import json\n",
    "\n",
    "# === 1. Load model architecture ===\n",
    "with open(\"model/agroscanmodel1_architecture.json\", \"r\") as json_file:\n",
    "    model_json = json_file.read()\n",
    "\n",
    "model = tf.keras.models.model_from_json(model_json)\n",
    "\n",
    "# === 2. Load model weights ===\n",
    "model.load_weights(\"model/agroscanmodel1_weights.weights.h5\")\n",
    "\n",
    "# === 3. Preprocess image ===\n",
    "def preprocess_image(image_path):\n",
    "    img = Image.open(image_path).convert(\"RGB\")\n",
    "    img = img.resize((244, 244))  # ✅ Match model's expected input shape\n",
    "    img_array = np.array(img) / 255.0  # Normalize to [0, 1]\n",
    "    return np.expand_dims(img_array, axis=0)  # Shape: (1, 244, 244, 3)\n",
    "\n",
    "\n",
    "\n"
   ]
  },
  {
   "cell_type": "code",
   "execution_count": 18,
   "id": "d49bf695-6401-4b03-b857-143c81010645",
   "metadata": {},
   "outputs": [
    {
     "name": "stdout",
     "output_type": "stream",
     "text": [
      "\u001b[1m1/1\u001b[0m \u001b[32m━━━━━━━━━━━━━━━━━━━━\u001b[0m\u001b[37m\u001b[0m \u001b[1m0s\u001b[0m 170ms/step\n",
      "Raw prediction: [[8.2418986e-02 3.8619823e-04 1.8933941e-02 3.8604302e-04 4.8511694e-04\n",
      "  6.6473199e-06 6.7744222e-05 9.7834993e-07 1.2367657e-04 1.1375337e-04\n",
      "  8.9702207e-01 5.4748994e-05]]\n",
      "prediction_num: 10\n",
      "Predicted label: maize_rust\n"
     ]
    }
   ],
   "source": [
    "# === 4. Make prediction ===\n",
    "image_path = \"fall (322).jpg\"  # replace with your test image\n",
    "img = preprocess_image(image_path)\n",
    "prediction = model.predict(img)\n",
    "\n",
    "# === 5. Print prediction ===\n",
    "labels = ['maize_ear_rot',\n",
    "    'maize_grasshopper' ,\n",
    "    'Maize_fall_armyworm',\n",
    "    'maize_leaf_beetle',\n",
    "    'maize_healthy',\n",
    "    'maize_lethal_necrosis',\n",
    "    'maize_leaf_blight',\n",
    "    'maize_leaf_spot',\n",
    "    'Maize_streak_virus',\n",
    "    'maize_nutrient_deficiency',\n",
    "    'maize_rust',\n",
    "    'maize_smuts']\n",
    "predicted_label = labels[np.argmax(prediction)]\n",
    "\n",
    "print(\"Raw prediction:\", prediction)\n",
    "print(\"prediction_num:\", np.argmax(prediction))\n",
    "print(\"Predicted label:\", predicted_label)"
   ]
  },
  {
   "cell_type": "code",
   "execution_count": 22,
   "id": "07c11cdd-40bf-44e2-b7c8-351b274a6583",
   "metadata": {},
   "outputs": [
    {
     "name": "stdout",
     "output_type": "stream",
     "text": [
      "\u001b[1m1/1\u001b[0m \u001b[32m━━━━━━━━━━━━━━━━━━━━\u001b[0m\u001b[37m\u001b[0m \u001b[1m3s\u001b[0m 3s/step\n",
      "009__ear_rot_ - 2024-11-21T010602.949.jpeg → maize_rust | Raw: [[6.8702959e-02 2.7965629e-04 1.6424347e-02 2.3593388e-04 2.7256337e-04\n",
      "  4.4638086e-06 2.9731846e-05 4.4759980e-07 7.7480501e-05 6.5744047e-05\n",
      "  9.1387641e-01 3.0203710e-05]]\n",
      "\u001b[1m1/1\u001b[0m \u001b[32m━━━━━━━━━━━━━━━━━━━━\u001b[0m\u001b[37m\u001b[0m \u001b[1m0s\u001b[0m 249ms/step\n",
      "Corn_Common_Rust (23).jpg → maize_rust | Raw: [[6.6414811e-02 3.7125486e-04 1.7186319e-02 3.2088035e-04 4.1113945e-04\n",
      "  7.0367123e-06 4.8702917e-05 9.3569503e-07 1.1758303e-04 1.2463047e-04\n",
      "  9.1495734e-01 3.9307335e-05]]\n",
      "\u001b[1m1/1\u001b[0m \u001b[32m━━━━━━━━━━━━━━━━━━━━\u001b[0m\u001b[37m\u001b[0m \u001b[1m0s\u001b[0m 202ms/step\n",
      "Corn_Health (19).jpg → maize_rust | Raw: [[7.2417267e-02 4.2197670e-04 1.7875357e-02 3.5302289e-04 4.4903340e-04\n",
      "  7.3054057e-06 5.6588477e-05 1.0189033e-06 1.2526834e-04 1.2933431e-04\n",
      "  9.0812021e-01 4.3554093e-05]]\n",
      "\u001b[1m1/1\u001b[0m \u001b[32m━━━━━━━━━━━━━━━━━━━━\u001b[0m\u001b[37m\u001b[0m \u001b[1m0s\u001b[0m 179ms/step\n",
      "Corn_Health.jpg → maize_rust | Raw: [[7.2417267e-02 4.2197670e-04 1.7875357e-02 3.5302289e-04 4.4903340e-04\n",
      "  7.3054057e-06 5.6588477e-05 1.0189033e-06 1.2526834e-04 1.2933431e-04\n",
      "  9.0812021e-01 4.3554093e-05]]\n",
      "\u001b[1m1/1\u001b[0m \u001b[32m━━━━━━━━━━━━━━━━━━━━\u001b[0m\u001b[37m\u001b[0m \u001b[1m0s\u001b[0m 187ms/step\n",
      "fall (322).jpg → maize_rust | Raw: [[8.2418986e-02 3.8619823e-04 1.8933941e-02 3.8604302e-04 4.8511694e-04\n",
      "  6.6473199e-06 6.7744222e-05 9.7834993e-07 1.2367657e-04 1.1375337e-04\n",
      "  8.9702207e-01 5.4748994e-05]]\n"
     ]
    }
   ],
   "source": [
    "import numpy as np\n",
    "import tensorflow as tf\n",
    "from PIL import Image\n",
    "import os\n",
    "\n",
    "# Load model\n",
    "with open(\"model/agroscanmodel1_architecture.json\", \"r\") as json_file:\n",
    "    model_json = json_file.read()\n",
    "\n",
    "model = tf.keras.models.model_from_json(model_json)\n",
    "\n",
    "# === 2. Load model weights ===\n",
    "model.load_weights(\"model/agroscanmodel1_weights.weights.h5\")\n",
    "\n",
    "# Define class names (update this with your actual labels)\n",
    "class_names = ['maize_ear_rot',\n",
    "    'maize_grasshopper' ,\n",
    "    'Maize_fall_armyworm',\n",
    "    'maize_leaf_beetle',\n",
    "    'maize_healthy',\n",
    "    'maize_lethal_necrosis',\n",
    "    'maize_leaf_blight',\n",
    "    'maize_leaf_spot',\n",
    "    'Maize_streak_virus',\n",
    "    'maize_nutrient_deficiency',\n",
    "    'maize_rust',\n",
    "    'maize_smuts']\n",
    "\n",
    "# Image preprocessing function\n",
    "def preprocess_image(image_path):\n",
    "    img = Image.open(image_path).convert(\"RGB\")\n",
    "    img = img.resize((244, 244))  # ResNet50 input size\n",
    "    img = np.array(img) / 255.0   # Normalize\n",
    "    img = img.reshape(1, 244, 244, 3)  # Add batch dimension\n",
    "    return img\n",
    "\n",
    "# Predict on multiple images in a folder\n",
    "image_folder = \"test_images\"  # Put your test images here\n",
    "\n",
    "for image_file in os.listdir(image_folder):\n",
    "    if image_file.endswith(('.jpg', '.jpeg', '.png')):\n",
    "        image_path = os.path.join(image_folder, image_file)\n",
    "        img = preprocess_image(image_path)\n",
    "        prediction = model.predict(img)\n",
    "        predicted_class = class_names[np.argmax(prediction)]\n",
    "        print(f\"{image_file} → {predicted_class} | Raw: {prediction}\")\n"
   ]
  },
  {
   "cell_type": "code",
   "execution_count": 24,
   "id": "cf98dd0c-7e0d-431a-b3c6-ef1037b92942",
   "metadata": {},
   "outputs": [
    {
     "name": "stdout",
     "output_type": "stream",
     "text": [
      "fall (322).jpg → maize_rust\n",
      "  maize_ear_rot: 0.0824\n",
      "  maize_grasshopper: 0.0004\n",
      "  Maize_fall_armyworm: 0.0189\n",
      "  maize_leaf_beetle: 0.0004\n",
      "  maize_healthy: 0.0005\n",
      "  maize_lethal_necrosis: 0.0000\n",
      "  maize_leaf_blight: 0.0001\n",
      "  maize_leaf_spot: 0.0000\n",
      "  Maize_streak_virus: 0.0001\n",
      "  maize_nutrient_deficiency: 0.0001\n",
      "  maize_rust: 0.8970\n",
      "  maize_smuts: 0.0001\n"
     ]
    }
   ],
   "source": [
    "print(f\"{image_file} → {predicted_class}\")\n",
    "for i, score in enumerate(prediction[0]):\n",
    "    print(f\"  {class_names[i]}: {score:.4f}\")\n"
   ]
  },
  {
   "cell_type": "code",
   "execution_count": 28,
   "id": "291008cf-1325-467a-9c61-d12b4d2e6a81",
   "metadata": {},
   "outputs": [
    {
     "name": "stdout",
     "output_type": "stream",
     "text": [
      "\u001b[1m1/1\u001b[0m \u001b[32m━━━━━━━━━━━━━━━━━━━━\u001b[0m\u001b[37m\u001b[0m \u001b[1m2s\u001b[0m 2s/step\n",
      "009__ear_rot_ - 2024-11-21T010602.949.jpeg → maize_rust\n",
      " Probabilities: [0.069 0.    0.016 0.    0.    0.    0.    0.    0.    0.    0.914 0.   ]\n",
      "\u001b[1m1/1\u001b[0m \u001b[32m━━━━━━━━━━━━━━━━━━━━\u001b[0m\u001b[37m\u001b[0m \u001b[1m0s\u001b[0m 173ms/step\n",
      "Corn_Common_Rust (23).jpg → maize_rust\n",
      " Probabilities: [0.066 0.    0.017 0.    0.    0.    0.    0.    0.    0.    0.915 0.   ]\n",
      "\u001b[1m1/1\u001b[0m \u001b[32m━━━━━━━━━━━━━━━━━━━━\u001b[0m\u001b[37m\u001b[0m \u001b[1m0s\u001b[0m 174ms/step\n",
      "Corn_Health (19).jpg → maize_rust\n",
      " Probabilities: [0.072 0.    0.018 0.    0.    0.    0.    0.    0.    0.    0.908 0.   ]\n",
      "\u001b[1m1/1\u001b[0m \u001b[32m━━━━━━━━━━━━━━━━━━━━\u001b[0m\u001b[37m\u001b[0m \u001b[1m0s\u001b[0m 182ms/step\n",
      "Corn_Health.jpg → maize_rust\n",
      " Probabilities: [0.072 0.    0.018 0.    0.    0.    0.    0.    0.    0.    0.908 0.   ]\n",
      "\u001b[1m1/1\u001b[0m \u001b[32m━━━━━━━━━━━━━━━━━━━━\u001b[0m\u001b[37m\u001b[0m \u001b[1m0s\u001b[0m 153ms/step\n",
      "fall (322).jpg → maize_rust\n",
      " Probabilities: [0.082 0.    0.019 0.    0.    0.    0.    0.    0.    0.    0.897 0.   ]\n"
     ]
    }
   ],
   "source": [
    "import tensorflow as tf\n",
    "import numpy as np\n",
    "from PIL import Image\n",
    "import os\n",
    "\n",
    "# Load model architecture and weights\n",
    "with open(\"model/agroscanmodel1_architecture.json\", \"r\") as f:\n",
    "    model_json = f.read()\n",
    "model = tf.keras.models.model_from_json(model_json)\n",
    "model.load_weights(\"model/agroscanmodel1_weights.weights.h5\")\n",
    "\n",
    "# Define class names in the same order as training\n",
    "class_names = ['maize_ear_rot', 'maize_grasshopper', 'Maize_fall_armyworm', 'maize_leaf_beetle',\n",
    "               'maize_healthy', 'maize_lethal_necrosis', 'maize_leaf_blight', 'maize_leaf_spot',\n",
    "               'Maize_streak_virus', 'maize_nutrient_deficiency', 'maize_rust', 'maize_smuts']\n",
    "\n",
    "def preprocess_image(image_path):\n",
    "    img = Image.open(image_path).convert('RGB')\n",
    "    img = img.resize((244, 244))  # match model input\n",
    "    img_array = np.array(img).astype('float32') / 255.0  # normalize\n",
    "    return np.expand_dims(img_array, axis=0)  # shape: (1, 244, 244, 3)\n",
    "\n",
    "# Directory of test images\n",
    "test_dir = \"test_images\"\n",
    "for image_file in os.listdir(test_dir):\n",
    "    image_path = os.path.join(test_dir, image_file)\n",
    "    img = preprocess_image(image_path)\n",
    "    prediction = model.predict(img)\n",
    "    predicted_class = class_names[np.argmax(prediction)]\n",
    "\n",
    "    print(f\"{image_file} → {predicted_class}\")\n",
    "    print(\" Probabilities:\", np.round(prediction[0], 3))\n"
   ]
  },
  {
   "cell_type": "code",
   "execution_count": null,
   "id": "aa8cf8ab-2a63-475f-abc1-97b68c63e920",
   "metadata": {},
   "outputs": [],
   "source": []
  }
 ],
 "metadata": {
  "kernelspec": {
   "display_name": "Python [conda env:base] *",
   "language": "python",
   "name": "conda-base-py"
  },
  "language_info": {
   "codemirror_mode": {
    "name": "ipython",
    "version": 3
   },
   "file_extension": ".py",
   "mimetype": "text/x-python",
   "name": "python",
   "nbconvert_exporter": "python",
   "pygments_lexer": "ipython3",
   "version": "3.12.7"
  }
 },
 "nbformat": 4,
 "nbformat_minor": 5
}
